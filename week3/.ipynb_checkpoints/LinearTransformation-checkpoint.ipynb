{
 "cells": [
  {
   "cell_type": "code",
   "execution_count": 1,
   "metadata": {},
   "outputs": [],
   "source": [
    "# https://www.geeksforgeeks.org/python-intensity-transformation-operations-on-images/\n",
    "import cv2 \n",
    "import numpy as np \n",
    "import matplotlib.pyplot as plt"
   ]
  },
  {
   "cell_type": "code",
   "execution_count": 2,
   "metadata": {},
   "outputs": [
    {
     "name": "stdout",
     "output_type": "stream",
     "text": [
      "(300, 300, 3)\n",
      "(300, 300)\n"
     ]
    }
   ],
   "source": [
    "bean = cv2.imread(\"bean.jpg\")\n",
    "print(bean.shape)\n",
    "bean = cv2.imread(\"bean.jpg\", cv2.IMREAD_GRAYSCALE)\n",
    "print(bean.shape)"
   ]
  },
  {
   "cell_type": "code",
   "execution_count": 3,
   "metadata": {},
   "outputs": [],
   "source": [
    "def linearTransform(pix, r1, s1, r2, s2): \n",
    "    if (0 <= pix and pix <= r1): \n",
    "        return (s1 / r1)*pix \n",
    "    elif (r1 < pix and pix <= r2): \n",
    "        return ((s2 - s1)/(r2 - r1)) * (pix - r1) + s1 \n",
    "    else: \n",
    "        return ((255 - s2)/(255 - r2)) * (pix - r2) + s2 "
   ]
  },
  {
   "cell_type": "code",
   "execution_count": 4,
   "metadata": {},
   "outputs": [],
   "source": [
    "# Define parameters. \n",
    "r1 = 60\n",
    "s1 = 30\n",
    "r2 = 130\n",
    "s2 = 200"
   ]
  },
  {
   "cell_type": "code",
   "execution_count": 8,
   "metadata": {},
   "outputs": [
    {
     "data": {
      "text/plain": [
       "True"
      ]
     },
     "execution_count": 8,
     "metadata": {},
     "output_type": "execute_result"
    }
   ],
   "source": [
    "# Vectorize the function to apply it to each value in the Numpy array. \n",
    "linearTrans_vec = np.vectorize(linearTransform) \n",
    "  \n",
    "# Apply contrast stretching. \n",
    "contrast_stretched = linearTrans_vec(bean, r1, s1, r2, s2)\n",
    "\n",
    "#plt.imshow(bean, cmap='gray', interpolation='bicubic')\n",
    "#plt.show()\n",
    "cv2.imwrite(\"bean_contrast.png\", contrast_stretched)"
   ]
  },
  {
   "cell_type": "code",
   "execution_count": null,
   "metadata": {},
   "outputs": [],
   "source": []
  },
  {
   "cell_type": "code",
   "execution_count": null,
   "metadata": {},
   "outputs": [],
   "source": []
  }
 ],
 "metadata": {
  "kernelspec": {
   "display_name": "Python 3",
   "language": "python",
   "name": "python3"
  },
  "language_info": {
   "codemirror_mode": {
    "name": "ipython",
    "version": 3
   },
   "file_extension": ".py",
   "mimetype": "text/x-python",
   "name": "python",
   "nbconvert_exporter": "python",
   "pygments_lexer": "ipython3",
   "version": "3.7.3"
  }
 },
 "nbformat": 4,
 "nbformat_minor": 2
}
