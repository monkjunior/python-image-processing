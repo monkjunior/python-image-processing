{
 "cells": [
  {
   "cell_type": "code",
   "execution_count": 1,
   "metadata": {},
   "outputs": [],
   "source": [
    "import numpy as np\n",
    "import cv2\n",
    "from matplotlib import pyplot as plt"
   ]
  },
  {
   "cell_type": "code",
   "execution_count": 2,
   "metadata": {},
   "outputs": [
    {
     "name": "stdout",
     "output_type": "stream",
     "text": [
      "(16384, 151)\n",
      "[[120   1 181 ... 141 122 154]\n",
      " [118   1 182 ... 150 123 143]\n",
      " [116   1 182 ... 150 129 155]\n",
      " ...\n",
      " [159 120  70 ... 164 112  89]\n",
      " [155 119  69 ... 166 112 139]\n",
      " [156 122  64 ... 156 115 209]]\n"
     ]
    }
   ],
   "source": [
    "face_vector = []\n",
    "for i in range(151):\n",
    "    face_image = cv2.cvtColor(cv2.imread(f\"./dataset/{str(i).zfill(5)}.png\"), cv2.COLOR_RGB2GRAY)\n",
    "    face_image = face_image.reshape(128*128,)\n",
    "    face_vector.append(face_image)\n",
    "face_vector = np.asarray(face_vector)\n",
    "face_vector = face_vector.transpose()\n",
    "\n",
    "print(face_vector.shape)\n",
    "print(face_vector)"
   ]
  },
  {
   "cell_type": "code",
   "execution_count": 3,
   "metadata": {},
   "outputs": [
    {
     "name": "stdout",
     "output_type": "stream",
     "text": [
      "[[   3.01986755 -115.98013245   64.01986755 ...   24.01986755\n",
      "     5.01986755   37.01986755]\n",
      " [   1.37748344 -115.62251656   65.37748344 ...   33.37748344\n",
      "     6.37748344   26.37748344]\n",
      " [  -1.25165563 -116.25165563   64.74834437 ...   32.74834437\n",
      "    11.74834437   37.74834437]\n",
      " ...\n",
      " [  53.15231788   14.15231788  -35.84768212 ...   58.15231788\n",
      "     6.15231788  -16.84768212]\n",
      " [  48.00662252   12.00662252  -37.99337748 ...   59.00662252\n",
      "     5.00662252   32.00662252]\n",
      " [  48.02649007   14.02649007  -43.97350993 ...   48.02649007\n",
      "     7.02649007  101.02649007]]\n"
     ]
    }
   ],
   "source": [
    "#STEP2: Normalize the face vectors by calculating the average face vector and subtracting it from each vector\n",
    "avg_face_vector = face_vector.mean(axis=1)\n",
    "avg_face_vector = avg_face_vector.reshape(face_vector.shape[0], 1)\n",
    "normalized_face_vector = face_vector - avg_face_vector\n",
    "print(normalized_face_vector)"
   ]
  },
  {
   "cell_type": "code",
   "execution_count": 4,
   "metadata": {},
   "outputs": [
    {
     "name": "stdout",
     "output_type": "stream",
     "text": [
      "[[3050.6339385  -142.9067319    28.53081304 ...  555.13357034\n",
      "  -168.90027751   92.73587738]\n",
      " [-142.9067319  1933.35589488 -314.36290238 ...  -55.17640393\n",
      "   246.37821502  152.25877194]\n",
      " [  28.53081304 -314.36290238 1955.76067469 ... -501.24000451\n",
      "   411.70287537 -568.63986091]\n",
      " ...\n",
      " [ 555.13357034  -55.17640393 -501.24000451 ... 3439.75954751\n",
      "  -666.38022593 -843.13573075]\n",
      " [-168.90027751  246.37821502  411.70287537 ... -666.38022593\n",
      "  2314.18974549  217.45649339]\n",
      " [  92.73587738  152.25877194 -568.63986091 ... -843.13573075\n",
      "   217.45649339 2579.07860606]]\n"
     ]
    }
   ],
   "source": [
    "#STEP3: Calculate the Covariance Matrix or the Sigma\n",
    "covariance_matrix = np.cov(np.transpose(normalized_face_vector))\n",
    "# covariance_matrix = np.transpose(normalized_face_vector).dot(normalized_face_vector)\n",
    "print(covariance_matrix)"
   ]
  },
  {
   "cell_type": "code",
   "execution_count": 5,
   "metadata": {},
   "outputs": [],
   "source": [
    "#STEP4: Calculate Eigen Vectors\n",
    "eigen_values, eigen_vectors = np.linalg.eig(covariance_matrix)"
   ]
  },
  {
   "cell_type": "code",
   "execution_count": 6,
   "metadata": {},
   "outputs": [
    {
     "name": "stdout",
     "output_type": "stream",
     "text": [
      "(151, 151)\n",
      "(20, 151)\n"
     ]
    }
   ],
   "source": [
    "#STEP5: Select the K best Eigen Faces, K < M\n",
    "print(eigen_vectors.shape)\n",
    "k = 20\n",
    "k_eigen_vectors = eigen_vectors[0:k, :]\n",
    "print(k_eigen_vectors.shape)"
   ]
  },
  {
   "cell_type": "code",
   "execution_count": 7,
   "metadata": {},
   "outputs": [
    {
     "name": "stdout",
     "output_type": "stream",
     "text": [
      "(20, 16384)\n"
     ]
    }
   ],
   "source": [
    "#STEP6: Convert lower dimensionality K Eigen Vectors to Original Dimensionality\n",
    "eigen_faces = k_eigen_vectors.dot(np.transpose(normalized_face_vector))\n",
    "print(eigen_faces.shape)"
   ]
  },
  {
   "cell_type": "code",
   "execution_count": 8,
   "metadata": {},
   "outputs": [
    {
     "name": "stdout",
     "output_type": "stream",
     "text": [
      "[[  7710014.08164914 -13958115.74293288  19572129.28368166 ...\n",
      "    2680929.78302859  20805322.15677225   9502800.1843103 ]\n",
      " [-38532568.05683067  54989474.07400095 -31091984.72452674 ...\n",
      "  -33243228.90600804  -5877962.44735014 -19253897.7076951 ]\n",
      " [  7963955.23258606   3789591.1250895     265913.69135887 ...\n",
      "   12494441.9301071     821790.9627331   14178500.60301809]\n",
      " ...\n",
      " [-28008285.73885257  33532463.99402824   7163945.85501368 ...\n",
      "   -4892990.95496545  17998925.98127977  -8863376.510942  ]\n",
      " [  9067953.98854884   8035211.9882185  -19014900.51359725 ...\n",
      "   -7213020.734944      322338.180603    -2568405.22892493]\n",
      " [ 39109290.41759067 -60023490.00472989  14208406.4660981  ...\n",
      "    6287224.21582842   -992278.81332618   -693052.78898194]]\n"
     ]
    }
   ],
   "source": [
    "# STEP7: Represent Each eigen face as combination of the K Eigen Vectors\n",
    "# weights = eigen_faces.dot(normalized_face_vector)\n",
    "weights = np.transpose(normalized_face_vector).dot(np.transpose(eigen_faces))\n",
    "print(weights)"
   ]
  },
  {
   "cell_type": "code",
   "execution_count": 11,
   "metadata": {},
   "outputs": [
    {
     "name": "stdout",
     "output_type": "stream",
     "text": [
      "149\n"
     ]
    }
   ],
   "source": [
    "#STEP8: Testing Phase\n",
    "test_add = f\"./dataset/00149.png\"\n",
    "test_img = cv2.imread(test_add)\n",
    "test_img = cv2.cvtColor(test_img, cv2.COLOR_RGB2GRAY)\n",
    "\n",
    "\n",
    "test_img = test_img.reshape(128*128, 1)\n",
    "test_normalized_face_vector = test_img - avg_face_vector\n",
    "test_weight = np.transpose(test_normalized_face_vector).dot(np.transpose(eigen_faces))\n",
    "\n",
    "\n",
    "index =  np.argmin(np.linalg.norm(test_weight - weights, axis=1))\n",
    "\n",
    "print(index);"
   ]
  }
 ],
 "metadata": {
  "kernelspec": {
   "display_name": "Python 3",
   "language": "python",
   "name": "python3"
  },
  "language_info": {
   "codemirror_mode": {
    "name": "ipython",
    "version": 3
   },
   "file_extension": ".py",
   "mimetype": "text/x-python",
   "name": "python",
   "nbconvert_exporter": "python",
   "pygments_lexer": "ipython3",
   "version": "3.7.3"
  }
 },
 "nbformat": 4,
 "nbformat_minor": 2
}
